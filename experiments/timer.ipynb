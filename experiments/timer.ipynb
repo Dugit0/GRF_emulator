{
 "cells": [
  {
   "cell_type": "code",
   "execution_count": 1,
   "id": "5e17caac-1d6b-4e6b-96c6-ed727ecc394e",
   "metadata": {},
   "outputs": [],
   "source": [
    "import pandas as pd\n",
    "import numpy as np\n",
    "import matplotlib.pyplot as plt \n",
    "import seaborn as sns\n",
    "\n",
    "import subprocess\n",
    "import time"
   ]
  },
  {
   "cell_type": "code",
   "execution_count": 9,
   "id": "5f85f19e-b2d4-4048-a9ec-30a6448c61a7",
   "metadata": {},
   "outputs": [
    {
     "name": "stdout",
     "output_type": "stream",
     "text": [
      "0.1367053985595703\n",
      "11\n",
      "1.1900432109832764\n"
     ]
    }
   ],
   "source": [
    "# package_path = \"/home/dmitry/IT/Sem7/GRF_emulator\"\n",
    "# subprocess.call(f\"python -m grfemulator.core experiments/main.grf\")\n",
    "\n",
    "compilation_start = time.time()\n",
    "subprocess.call(\"g++ -O2 -o main.out main.cpp\".split())\n",
    "exec_start = time.time()\n",
    "print(exec_start - compilation_start)\n",
    "subprocess.call(\"./main.out\")\n",
    "finish = time.time()\n",
    "print(finish - exec_start)\n",
    "\n"
   ]
  },
  {
   "cell_type": "code",
   "execution_count": null,
   "id": "4444039c-56d3-41e7-be08-fba160a024cb",
   "metadata": {},
   "outputs": [],
   "source": [
    "import re\n",
    "print(re.find('', ))"
   ]
  },
  {
   "cell_type": "markdown",
   "id": "ae400995-f111-43bc-8982-332f3ce707e1",
   "metadata": {},
   "source": [
    "Inp:\n",
    "12\n",
    "Out:\n",
    "0.13371801376342773\n",
    "13\n",
    "39.602688789367676"
   ]
  }
 ],
 "metadata": {
  "kernelspec": {
   "display_name": "Python 3 (ipykernel)",
   "language": "python",
   "name": "python3"
  },
  "language_info": {
   "codemirror_mode": {
    "name": "ipython",
    "version": 3
   },
   "file_extension": ".py",
   "mimetype": "text/x-python",
   "name": "python",
   "nbconvert_exporter": "python",
   "pygments_lexer": "ipython3",
   "version": "3.11.10"
  }
 },
 "nbformat": 4,
 "nbformat_minor": 5
}
